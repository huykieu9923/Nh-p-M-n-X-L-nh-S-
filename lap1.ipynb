{
 "cells": [
  {
   "cell_type": "markdown",
   "id": "74cb2c28",
   "metadata": {},
   "source": [
    "### Bài 1: Nạp ảnh và lưu thành 3 ảnh với 3 màu khác nhau"
   ]
  },
  {
   "cell_type": "code",
   "execution_count": null,
   "id": "c80b3e1f",
   "metadata": {},
   "outputs": [],
   "source": [
    "import cv2\n",
    "import numpy as np\n",
    "from matplotlib import pyplot as plt\n",
    "\n",
    "# Đọc ảnh\n",
    "img = cv2.imread('bird.png')\n",
    "b, g, r = cv2.split(img)\n",
    "\n",
    "# Tạo ảnh với từng kênh màu riêng biệt\n",
    "img_red = cv2.merge([np.zeros_like(b), np.zeros_like(g), r])\n",
    "img_green = cv2.merge([np.zeros_like(b), g, np.zeros_like(r)])\n",
    "img_blue = cv2.merge([b, np.zeros_like(g), np.zeros_like(r)])\n",
    "\n",
    "# Lưu ảnh\n",
    "cv2.imwrite('bird_red.png', img_red)\n",
    "cv2.imwrite('bird_green.png', img_green)\n",
    "cv2.imwrite('bird_blue.png', img_blue)\n"
   ]
  },
  {
   "cell_type": "markdown",
   "id": "5bcaac29",
   "metadata": {},
   "source": [
    "### Bài 2: Hoán đổi giá trị các màu và lưu ảnh"
   ]
  },
  {
   "cell_type": "code",
   "execution_count": null,
   "id": "2a9f27f7",
   "metadata": {},
   "outputs": [],
   "source": [
    "# Hoán đổi kênh màu: R <-> B\n",
    "img_swap = cv2.merge([r, g, b])\n",
    "cv2.imwrite('bird_swap.png', img_swap)\n"
   ]
  },
  {
   "cell_type": "markdown",
   "id": "7cfa4a20",
   "metadata": {},
   "source": [
    "### Bài 3: Chuyển sang hệ HSV và lưu thành 3 ảnh với 3 màu khác nhau"
   ]
  },
  {
   "cell_type": "code",
   "execution_count": null,
   "id": "785e5c84",
   "metadata": {},
   "outputs": [],
   "source": [
    "hsv = cv2.cvtColor(img, cv2.COLOR_BGR2HSV)\n",
    "h, s, v = cv2.split(hsv)\n",
    "\n",
    "# Hiển thị và lưu từng kênh HSV\n",
    "cv2.imwrite('bird_H.png', h)\n",
    "cv2.imwrite('bird_S.png', s)\n",
    "cv2.imwrite('bird_V.png', v)\n"
   ]
  },
  {
   "cell_type": "markdown",
   "id": "b4b97c1b",
   "metadata": {},
   "source": [
    "### Bài 4: Chuyển sang HSV và chỉnh kênh H, V"
   ]
  },
  {
   "cell_type": "code",
   "execution_count": null,
   "id": "f4f75c3b",
   "metadata": {},
   "outputs": [],
   "source": [
    "h_new = (h // 3).astype(np.uint8)\n",
    "v_new = (v * 0.75).astype(np.uint8)\n",
    "\n",
    "hsv_modified = cv2.merge([h_new, s, v_new])\n",
    "bgr_modified = cv2.cvtColor(hsv_modified, cv2.COLOR_HSV2BGR)\n",
    "cv2.imwrite('bird_modified.png', bgr_modified)\n"
   ]
  },
  {
   "cell_type": "markdown",
   "id": "44e98896",
   "metadata": {},
   "source": [
    "### Bài 5: Sử dụng mean filter cho các hình trong thư mục 'Exercise'"
   ]
  },
  {
   "cell_type": "code",
   "execution_count": null,
   "id": "240f396a",
   "metadata": {},
   "outputs": [],
   "source": [
    "import os\n",
    "\n",
    "folder_path = 'Exercise'\n",
    "output_path = 'Exercise_filtered'\n",
    "os.makedirs(output_path, exist_ok=True)\n",
    "\n",
    "for filename in os.listdir(folder_path):\n",
    "    if filename.lower().endswith(('.png', '.jpg', '.jpeg')):\n",
    "        path = os.path.join(folder_path, filename)\n",
    "        img = cv2.imread(path)\n",
    "        filtered = cv2.blur(img, (5, 5))  # mean filter 5x5\n",
    "        cv2.imwrite(os.path.join(output_path, filename), filtered)\n"
   ]
  }
 ],
 "metadata": {},
 "nbformat": 4,
 "nbformat_minor": 5
}
